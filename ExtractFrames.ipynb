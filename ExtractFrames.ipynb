{
 "cells": [
  {
   "cell_type": "code",
   "execution_count": 1,
   "id": "d08f72b8-888b-431b-812e-d53051d53ce3",
   "metadata": {},
   "outputs": [],
   "source": [
    "#!pip install opencv-python"
   ]
  },
  {
   "cell_type": "code",
   "execution_count": 15,
   "id": "36dff0d1-4078-45aa-b687-38201e137aa9",
   "metadata": {},
   "outputs": [],
   "source": [
    "# Importing all necessary libraries \n",
    "import cv2 \n",
    "import os "
   ]
  },
  {
   "cell_type": "code",
   "execution_count": 162,
   "id": "9a3429a3-7159-4d75-a0fc-772a654ed422",
   "metadata": {},
   "outputs": [],
   "source": [
    "# Read the video from specified path - Test\n",
    "cam = cv2.VideoCapture(\"D:\\\\Tasneem\\\\Research\\\\ScholarShip\\\\King\\\\dataset-segmentation\\\\train\\\\video_40\\\\video_left.avi\") \n",
    "saved_dir = 'D:\\\\Tasneem\\\\Research\\\\ScholarShip\\\\King\\\\dataset-segmentation\\\\train\\\\video_40\\\\frames\\\\'"
   ]
  },
  {
   "cell_type": "code",
   "execution_count": 163,
   "id": "7c56c33a-0cd1-4359-8dee-75bff0a72834",
   "metadata": {},
   "outputs": [],
   "source": [
    "# Read the video from specified path - Test\n",
    "#cam = cv2.VideoCapture(\"D:\\\\Tasneem\\\\Research\\\\ScholarShip\\\\King\\\\dataset-segmentation\\\\test\\\\video_50\\\\video_left.avi\") \n",
    "#saved_dir = 'D:\\\\Tasneem\\\\Research\\\\ScholarShip\\\\King\\\\dataset-segmentation\\\\test\\\\video_50\\\\frames\\\\'"
   ]
  },
  {
   "cell_type": "markdown",
   "id": "ab810c13-6b80-47cf-a701-d88c94aad19a",
   "metadata": {},
   "source": [
    "# frame \n",
    "currentframe = 0\n",
    "skipped_frames=0\n",
    "while(True): \n",
    "\t\n",
    "\t# reading from frame \n",
    "    ret,frame = cam.read() \n",
    "    if ret: \n",
    "        # if video is still left continue creating images \n",
    "        name = saved_dir + str(currentframe) + '.jpg'\n",
    "        print ('Creating...' + name) \n",
    "        if skipped_frames == 0:\n",
    "            # writing the extracted images \n",
    "            cv2.imwrite(name, frame) \n",
    "            skipped_frames = 60\n",
    "        # increasing counter so that it will show how many frames are created \n",
    "        skipped_frames -= 1\n",
    "        currentframe += 1\n",
    "    else: \n",
    "        print(\"currentframe\",currentframe,\"skipped_frames\",skipped_frames,\"ret\",ret)\n",
    "        break\n",
    "# Release all space and windows once done \n",
    "cam.release() \n",
    "cv2.destroyAllWindows() "
   ]
  },
  {
   "cell_type": "code",
   "execution_count": null,
   "id": "d3b98ec1-b085-49f6-b7e7-63bc7d6dfa53",
   "metadata": {},
   "outputs": [],
   "source": []
  }
 ],
 "metadata": {
  "kernelspec": {
   "display_name": "Python 3 (ipykernel)",
   "language": "python",
   "name": "python3"
  },
  "language_info": {
   "codemirror_mode": {
    "name": "ipython",
    "version": 3
   },
   "file_extension": ".py",
   "mimetype": "text/x-python",
   "name": "python",
   "nbconvert_exporter": "python",
   "pygments_lexer": "ipython3",
   "version": "3.11.7"
  }
 },
 "nbformat": 4,
 "nbformat_minor": 5
}
