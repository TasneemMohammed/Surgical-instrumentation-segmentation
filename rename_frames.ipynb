{
  "nbformat": 4,
  "nbformat_minor": 0,
  "metadata": {
    "colab": {
      "provenance": []
    },
    "kernelspec": {
      "name": "python3",
      "display_name": "Python 3"
    },
    "language_info": {
      "name": "python"
    }
  },
  "cells": [
    {
      "cell_type": "code",
      "execution_count": null,
      "metadata": {
        "id": "RCP5r_hdxi2k"
      },
      "outputs": [],
      "source": [
        "import os\n",
        "from pathlib import Path"
      ]
    },
    {
      "cell_type": "code",
      "source": [
        "#dir_path_frames = \"/content/drive/MyDrive/ColabNotebooks/Sementatic_Segmentation/dataset_small/train_frame/frame/\"\n",
        "#dir_path_frames = \"/content/drive/MyDrive/ColabNotebooks/Sementatic_Segmentation/dataset_small/val_frame/frame/\"\n",
        "dir_path_frames = \"/content/drive/MyDrive/ColabNotebooks/Sementatic_Segmentation/dataset_small/test_frame/frame/\"\n",
        "\n",
        "print(len(os.listdir(dir_path_frames)))\n",
        "sorted_list = sorted(os.listdir(dir_path_frames))\n",
        "print(sorted_list)\n",
        "#print(sorted_list[2800:])\n"
      ],
      "metadata": {
        "id": "0yBPflxIxlvu"
      },
      "execution_count": null,
      "outputs": []
    },
    {
      "cell_type": "code",
      "source": [
        "for file in os.listdir(dir_path_frames):\n",
        "    print(file)\n",
        "    name, ext = os.path.splitext(file)\n",
        "    name = name.split(\"_\")\n",
        "    lst_part_name = name[-1]\n",
        "    while len(lst_part_name)<9:\n",
        "        lst_part_name= \"0\" + lst_part_name\n",
        "    new_name = '_'.join(name[:-1])\n",
        "    new_name = f\"{new_name}_{lst_part_name}{ext}\"\n",
        "    print(new_name)\n",
        "    os.rename(dir_path_frames + file ,dir_path_frames + new_name)"
      ],
      "metadata": {
        "id": "Yj9biCo-yQg9"
      },
      "execution_count": null,
      "outputs": []
    },
    {
      "cell_type": "code",
      "source": [
        "\n"
      ],
      "metadata": {
        "id": "6DpSpumr2_2a"
      },
      "execution_count": null,
      "outputs": []
    },
    {
      "cell_type": "code",
      "source": [],
      "metadata": {
        "id": "9-QjYIeQyf4D"
      },
      "execution_count": null,
      "outputs": []
    }
  ]
}