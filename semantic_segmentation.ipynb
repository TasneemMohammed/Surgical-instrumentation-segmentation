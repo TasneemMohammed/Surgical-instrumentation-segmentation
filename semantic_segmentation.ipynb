{
  "cells": [
    {
      "cell_type": "code",
      "execution_count": null,
      "metadata": {
        "id": "YlQ7LFszYhCn"
      },
      "outputs": [],
      "source": [
        "!pip install import_ipynb"
      ]
    },
    {
      "cell_type": "code",
      "execution_count": null,
      "metadata": {
        "id": "YrSuppL-YNtj"
      },
      "outputs": [],
      "source": [
        "import import_ipynb\n",
        "%run /content/drive/MyDrive/ColabNotebooks/Sementatic_Segmentation/unet.ipynb\n",
        "%run /content/drive/MyDrive/ColabNotebooks/Sementatic_Segmentation/UpdatedMeanIoU.ipynb\n",
        "#import unet\n",
        "#from unet import build_unet"
      ]
    },
    {
      "cell_type": "code",
      "execution_count": null,
      "metadata": {
        "id": "6QMu2YdPUS0X"
      },
      "outputs": [],
      "source": [
        "#from unet import build_unet\n",
        "import os\n",
        "import numpy as np\n",
        "from matplotlib import pyplot as plt\n",
        "from tensorflow.keras.optimizers import Adam\n",
        "import tensorflow as tf\n",
        "from tensorflow.keras.preprocessing.image import ImageDataGenerator\n",
        "from keras.metrics import MeanIoU\n",
        "from keras.callbacks import EarlyStopping"
      ]
    },
    {
      "cell_type": "code",
      "execution_count": null,
      "metadata": {
        "id": "j4MEgWIKoQB0"
      },
      "outputs": [],
      "source": [
        "\n",
        "train_frame_list = os.listdir(\"/content/drive/MyDrive/ColabNotebooks/Sementatic_Segmentation/dataset_small/train_frame/frame\")\n",
        "train_frame_list = sorted(train_frame_list)\n",
        "print(train_frame_list)\n",
        "print(len(train_frame_list))\n",
        "\n",
        "train_mask_list = os.listdir(\"/content/drive/MyDrive/ColabNotebooks/Sementatic_Segmentation/dataset_small/train_mask/mask\")\n",
        "train_mask_list = sorted(train_mask_list)\n",
        "print(train_mask_list)\n",
        "print(len(train_mask_list))\n",
        "\n",
        "for frame, mask in zip(train_frame_list, train_mask_list):\n",
        "  frame = frame.split(\".\")\n",
        "  mask = mask.split(\".\")\n",
        "  if frame[0]!=mask[0]:\n",
        "    print(frame[0], mask[0])\n",
        "    break"
      ]
    },
    {
      "cell_type": "code",
      "execution_count": null,
      "metadata": {
        "id": "DUel2Mdo60hn"
      },
      "outputs": [],
      "source": [
        "'''\n",
        "file_path = \"/content/drive/MyDrive/ColabNotebooks/Sementatic_Segmentation/dataset_small/train_mask/mask/video_03_000009000 (1).png\"\n",
        "# Check if the file exists before attempting to delete it\n",
        "if os.path.exists(file_path):\n",
        "    os.remove(file_path)\n",
        "    print(f\"The file {file_path} has been deleted.\")\n",
        "else:\n",
        "    print(f\"The file {file_path} does not exist.\")\n",
        "'''"
      ]
    },
    {
      "cell_type": "code",
      "execution_count": null,
      "metadata": {
        "id": "X_sO6HVqDE2c"
      },
      "outputs": [],
      "source": [
        "\n",
        "val_frame_list = os.listdir(\"/content/drive/MyDrive/ColabNotebooks/Sementatic_Segmentation/dataset_small/val_frame/frame\")\n",
        "val_frame_list = sorted(val_frame_list)\n",
        "print(val_frame_list)\n",
        "print(len(val_frame_list))\n",
        "\n",
        "val_mask_list = os.listdir(\"/content/drive/MyDrive/ColabNotebooks/Sementatic_Segmentation/dataset_small/val_mask/mask\")\n",
        "val_mask_list = sorted(val_mask_list)\n",
        "print(val_mask_list)\n",
        "print(len(val_mask_list))\n",
        "\n",
        "for frame, mask in zip(val_frame_list, val_mask_list):\n",
        "  frame = frame.split(\".\")\n",
        "  mask = mask.split(\".\")\n",
        "  if frame[0]!=mask[0]:\n",
        "    print(frame[0], mask[0])\n"
      ]
    },
    {
      "cell_type": "code",
      "execution_count": null,
      "metadata": {
        "id": "R6YmBGrRDEC3"
      },
      "outputs": [],
      "source": [
        "'''\n",
        "file_path = \"/content/drive/MyDrive/ColabNotebooks/Sementatic_Segmentation/dataset_small/val_frame/frame/video_38_12900.jpg\"\n",
        "# Check if the file exists before attempting to delete it\n",
        "if os.path.exists(file_path):\n",
        "    os.remove(file_path)\n",
        "    print(f\"The file {file_path} has been deleted.\")\n",
        "else:\n",
        "    print(f\"The file {file_path} does not exist.\")\n",
        "'''"
      ]
    },
    {
      "cell_type": "code",
      "execution_count": null,
      "metadata": {
        "id": "sMrlJkN_KA0a"
      },
      "outputs": [],
      "source": [
        "\n",
        "test_frame_list = os.listdir(\"/content/drive/MyDrive/ColabNotebooks/Sementatic_Segmentation/dataset_small/test_frame/frame\")\n",
        "test_frame_list = sorted(test_frame_list)\n",
        "print(test_frame_list)\n",
        "print(len(test_frame_list))\n",
        "\n",
        "test_mask_list = os.listdir(\"/content/drive/MyDrive/ColabNotebooks/Sementatic_Segmentation/dataset_small/test_mask/mask\")\n",
        "test_mask_list = sorted(test_mask_list)\n",
        "print(test_mask_list)\n",
        "print(len(test_mask_list))\n",
        "\n",
        "for frame, mask in zip(test_frame_list, test_mask_list):\n",
        "  frame = frame.split(\".\")\n",
        "  mask = mask.split(\".\")\n",
        "  if frame[0]!=mask[0]:\n",
        "    print(frame[0], mask[0])\n"
      ]
    },
    {
      "cell_type": "code",
      "execution_count": null,
      "metadata": {
        "id": "mi0SI53SKiGe"
      },
      "outputs": [],
      "source": [
        "'''\n",
        "file_path = \"/content/drive/MyDrive/ColabNotebooks/Sementatic_Segmentation/dataset_small/test_frame/frame/video_38_12900.jpg\"\n",
        "# Check if the file exists before attempting to delete it\n",
        "if os.path.exists(file_path):\n",
        "    os.remove(file_path)\n",
        "    print(f\"The file {file_path} has been deleted.\")\n",
        "else:\n",
        "    print(f\"The file {file_path} does not exist.\")\n",
        "'''"
      ]
    },
    {
      "cell_type": "code",
      "execution_count": null,
      "metadata": {
        "id": "rAZ7gyeGZ-s0"
      },
      "outputs": [],
      "source": [
        "#New generator with rotation and shear where interpolation that comes with rotation and shear are thresholded in masks.\n",
        "#This gives a binary mask rather than a mask with interpolated values.\n",
        "seed=24\n",
        "batch_size= 8\n",
        "n_classes= 9"
      ]
    },
    {
      "cell_type": "code",
      "execution_count": null,
      "metadata": {
        "id": "2sN428F1aDzk"
      },
      "outputs": [],
      "source": [
        "img_data_gen_args = dict(rescale = 1/255., #Original pixel values are 0 and 255. So rescaling to 0 to 1\n",
        "                      width_shift_range=0.3,\n",
        "                      height_shift_range=0.3,\n",
        "                      shear_range=0.5,\n",
        "                      horizontal_flip=True,\n",
        "                      vertical_flip=True,\n",
        "                      fill_mode='reflect')"
      ]
    },
    {
      "cell_type": "code",
      "execution_count": null,
      "metadata": {
        "colab": {
          "base_uri": "https://localhost:8080/"
        },
        "id": "8gWOqltJaOTJ",
        "outputId": "b5541b50-a1b6-44d6-b92a-a0c17b1e0838"
      },
      "outputs": [
        {
          "output_type": "stream",
          "name": "stdout",
          "text": [
            "Found 200 images belonging to 1 classes.\n",
            "Found 200 images belonging to 1 classes.\n",
            "Found 20 images belonging to 1 classes.\n",
            "Found 20 images belonging to 1 classes.\n"
          ]
        }
      ],
      "source": [
        "#If You need to resize images then add this to the flow_from_directory parameters\n",
        "#target_size=(150, 150), #Or whatever the size is for your network\n",
        "\n",
        "image_data_generator = ImageDataGenerator(**img_data_gen_args)\n",
        "image_generator = image_data_generator.flow_from_directory(\"/content/drive/MyDrive/ColabNotebooks/Sementatic_Segmentation/dataset_small/train_frame/\",\n",
        "                                                           seed=seed,\n",
        "                                                           batch_size=batch_size,\n",
        "                                                           class_mode=None)  #Very important to set this otherwise it returns multiple numpy arrays\n",
        "                                                                            #thinking class mode is binary.\n",
        "\n",
        "mask_generator = image_data_generator.flow_from_directory(\"/content/drive/MyDrive/ColabNotebooks/Sementatic_Segmentation/dataset_small/train_mask/\",\n",
        "                                                         seed=seed,\n",
        "                                                         batch_size=batch_size,\n",
        "                                                         color_mode = 'grayscale',   #Read masks in grayscale\n",
        "                                                         class_mode=None)\n",
        "\n",
        "\n",
        "valid_img_generator = image_data_generator.flow_from_directory(\"/content/drive/MyDrive/ColabNotebooks/Sementatic_Segmentation/dataset_small/val_frame/\",\n",
        "                                                               seed=seed,\n",
        "                                                               batch_size=batch_size,\n",
        "                                                               class_mode=None) #Default batch size 32, if not specified here\n",
        "valid_mask_generator = image_data_generator.flow_from_directory(\"/content/drive/MyDrive/ColabNotebooks/Sementatic_Segmentation/dataset_small/val_mask/\",\n",
        "                                                               seed=seed,\n",
        "                                                               batch_size=batch_size,\n",
        "                                                               color_mode = 'grayscale',   #Read masks in grayscale\n",
        "                                                               class_mode=None)  #Default batch size 32, if not specified here\n",
        "\n",
        "\n"
      ]
    },
    {
      "cell_type": "code",
      "execution_count": null,
      "metadata": {
        "colab": {
          "base_uri": "https://localhost:8080/"
        },
        "id": "A2aSVHPqLIOE",
        "outputId": "b1f0a0b2-defc-46fa-de62-373c1d98a87e"
      },
      "outputs": [
        {
          "output_type": "stream",
          "name": "stdout",
          "text": [
            "(8, 256, 256, 3)\n",
            "(8, 256, 256, 1)\n",
            "(8, 256, 256, 3)\n",
            "(8, 256, 256, 1)\n"
          ]
        }
      ],
      "source": [
        "train_generator = zip(image_generator,mask_generator)\n",
        "val_generator = zip(valid_img_generator, valid_mask_generator)\n",
        "\n",
        "for i in train_generator:\n",
        "  print(i[0].shape)\n",
        "  print(i[1].shape)\n",
        "  break\n",
        "\n",
        "for i in val_generator:\n",
        "  print(i[0].shape)\n",
        "  print(i[1].shape)\n",
        "  break"
      ]
    },
    {
      "cell_type": "code",
      "execution_count": null,
      "metadata": {
        "colab": {
          "base_uri": "https://localhost:8080/",
          "height": 291
        },
        "id": "8q4qZWSFeHf6",
        "outputId": "94283ef8-0ebf-4839-925c-7b7a666fbd41"
      },
      "outputs": [
        {
          "output_type": "display_data",
          "data": {
            "text/plain": [
              "<Figure size 640x480 with 2 Axes>"
            ],
            "image/png": "[encoded data removed]"
          },
          "metadata": {}
        }
      ],
      "source": [
        "x = image_generator.next()\n",
        "y = mask_generator.next()\n",
        "for i in range(0,1):\n",
        "    image = x[i]\n",
        "    mask = y[i]\n",
        "    plt.subplot(1,2,1)\n",
        "    plt.imshow(image[:,:,0], cmap='gray')\n",
        "    plt.subplot(1,2,2)\n",
        "    plt.imshow(mask[:,:,0])\n",
        "    plt.show()"
      ]
    },
    {
      "cell_type": "code",
      "execution_count": null,
      "metadata": {
        "id": "Ki7SPQQeeeN9"
      },
      "outputs": [],
      "source": [
        "from keras import backend as K\n",
        "\n",
        "#Dice metric can be a great metric to track accuracy of semantic segmentation.\n",
        "def dice_metric(y_pred, y_true):\n",
        "    intersection = K.sum(K.sum(K.abs(y_true * y_pred), axis=-1))\n",
        "    union = K.sum(K.sum(K.abs(y_true) + K.abs(y_pred), axis=-1))\n",
        "    # if y_pred.sum() == 0 and y_pred.sum() == 0:\n",
        "    #     return 1.0\n",
        "\n",
        "    return 2*intersection / union\n"
      ]
    },
    {
      "cell_type": "code",
      "execution_count": null,
      "metadata": {
        "colab": {
          "base_uri": "https://localhost:8080/"
        },
        "id": "Xqwl4pDaehJG",
        "outputId": "c372c1da-943d-486c-b696-296159a33d35"
      },
      "outputs": [
        {
          "output_type": "stream",
          "name": "stdout",
          "text": [
            "256 256 3\n"
          ]
        }
      ],
      "source": [
        "IMG_HEIGHT = x.shape[1]\n",
        "IMG_WIDTH  = x.shape[2]\n",
        "IMG_CHANNELS = x.shape[3]\n",
        "print(IMG_HEIGHT, IMG_WIDTH, IMG_CHANNELS)"
      ]
    },
    {
      "cell_type": "code",
      "execution_count": null,
      "metadata": {
        "id": "8PDFXqHqesWj"
      },
      "outputs": [],
      "source": [
        "input_shape = (IMG_HEIGHT, IMG_WIDTH, IMG_CHANNELS)"
      ]
    },
    {
      "cell_type": "code",
      "execution_count": null,
      "metadata": {
        "id": "oxNGniktev22"
      },
      "outputs": [],
      "source": [
        "model = build_unet(input_shape)"
      ]
    },
    {
      "cell_type": "code",
      "execution_count": null,
      "metadata": {
        "id": "OE8Lfq8VewP2"
      },
      "outputs": [],
      "source": [
        "mIOU = UpdatedMeanIoU(num_classes=9)\n",
        "model.compile(optimizer=Adam(lr = 1e-3), loss='categorical_crossentropy', metrics=[mIOU, dice_metric])\n",
        "#model.compile(optimizer=Adam(lr = 1e-3), loss='categorical_crossentropy', metrics=[dice_metric])\n",
        "\n",
        "model.summary()"
      ]
    },
    {
      "cell_type": "code",
      "execution_count": null,
      "metadata": {
        "colab": {
          "base_uri": "https://localhost:8080/"
        },
        "id": "qc8qxt_4g7s0",
        "outputId": "a2950485-b483-4675-c561-00459cad548e"
      },
      "outputs": [
        {
          "output_type": "stream",
          "name": "stdout",
          "text": [
            "200 200\n",
            "25\n"
          ]
        }
      ],
      "source": [
        "num_train_imgs = len(os.listdir('/content/drive/MyDrive/ColabNotebooks/Sementatic_Segmentation/dataset_small/train_frame/frame/'))\n",
        "num_train_mask = len(os.listdir('/content/drive/MyDrive/ColabNotebooks/Sementatic_Segmentation/dataset_small/train_mask/mask/'))\n",
        "print(num_train_imgs, num_train_mask)\n",
        "steps_per_epoch = num_train_imgs //batch_size\n",
        "print(steps_per_epoch)"
      ]
    },
    {
      "cell_type": "code",
      "execution_count": null,
      "metadata": {
        "colab": {
          "base_uri": "https://localhost:8080/"
        },
        "id": "nLcCHQFJhIut",
        "outputId": "1180a13e-e6a8-47b5-9cea-be08ec8beac2"
      },
      "outputs": [
        {
          "output_type": "stream",
          "name": "stdout",
          "text": [
            "Epoch 1/5\n",
            "25/25 [==============================] - 1958s 78s/step - loss: 0.0544 - updated_mean_io_u: 0.0272 - dice_metric: 0.0051 - val_loss: 0.9949 - val_updated_mean_io_u: 0.0711 - val_dice_metric: 0.0017\n",
            "Epoch 2/5\n",
            "25/25 [==============================] - 1993s 80s/step - loss: 0.0549 - updated_mean_io_u: 0.0100 - dice_metric: 0.0053 - val_loss: 0.2193 - val_updated_mean_io_u: 0.0022 - val_dice_metric: 0.0016\n",
            "Epoch 3/5\n",
            "25/25 [==============================] - ETA: 0s - loss: 0.0544 - updated_mean_io_u: 4.3436e-04 - dice_metric: 0.0053  "
          ]
        }
      ],
      "source": [
        "early_stopping = EarlyStopping(monitor=\"val_loss\", patience=20, verbose=1, restore_best_weights=True,)\n",
        "\n",
        "history=model.fit(train_generator, validation_data=val_generator, steps_per_epoch=steps_per_epoch,\n",
        "                  validation_steps=steps_per_epoch, epochs=5,  callbacks=[early_stopping],)"
      ]
    },
    {
      "cell_type": "code",
      "execution_count": null,
      "metadata": {
        "id": "ndMTqIp3hRqx"
      },
      "outputs": [],
      "source": [
        "#model.save('semanticSegmentation_50epochs.hdf5')\n",
        "#model = tf.keras.models.load_model(\"semanticSegmentation_50epochs.hdf5\", compile=False)"
      ]
    },
    {
      "cell_type": "code",
      "execution_count": null,
      "metadata": {
        "id": "f88kFRVZhX0R"
      },
      "outputs": [],
      "source": [
        "#plot the training and validation accuracy and loss at each epoch\n",
        "loss = history.history['loss']\n",
        "val_loss = history.history['val_loss']\n",
        "epochs = range(1, len(loss) + 1)\n",
        "plt.plot(epochs, loss, 'y', label='Training loss')\n",
        "plt.plot(epochs, val_loss, 'r', label='Validation loss')\n",
        "plt.title('Training and validation loss')\n",
        "plt.xlabel('Epochs')\n",
        "plt.ylabel('Loss')\n",
        "plt.legend()\n",
        "plt.show()"
      ]
    },
    {
      "cell_type": "code",
      "execution_count": null,
      "metadata": {
        "id": "qPBsnWbAhzZE"
      },
      "outputs": [],
      "source": [
        "plt.plot(epochs, acc, 'y', label='Training Dice')\n",
        "plt.plot(epochs, val_acc, 'r', label='Validation Dice')\n",
        "plt.title('Training and validation Dice')\n",
        "plt.xlabel('Epochs')\n",
        "plt.ylabel('Dice')\n",
        "plt.legend()\n",
        "plt.show()"
      ]
    },
    {
      "cell_type": "code",
      "execution_count": null,
      "metadata": {
        "id": "Wdq-l2dziNvS"
      },
      "outputs": [],
      "source": [
        "test_img_generator = image_data_generator.flow_from_directory(\"/content/drive/MyDrive/ColabNotebooks/Sementatic_Segmentation/dataset_small/test_frame/\",\n",
        "                                                              seed=seed,\n",
        "                                                              batch_size=32,\n",
        "                                                              class_mode=None) #Default batch size 32, if not specified here\n",
        "\n",
        "test_mask_generator = image_data_generator.flow_from_directory(\"/content/drive/MyDrive/ColabNotebooks/Sementatic_Segmentation/dataset_small/test_mask/\",\n",
        "                                                              seed=seed,\n",
        "                                                              batch_size=32,\n",
        "                                                              color_mode = 'grayscale',   #Read masks in grayscale\n",
        "                                                              class_mode=None)  #Default batch size 32, if not specified here\n",
        "test_generator = zip(test_img_generator, test_mask_generator)"
      ]
    },
    {
      "cell_type": "code",
      "execution_count": null,
      "metadata": {
        "id": "en3-pQmQiTlA"
      },
      "outputs": [],
      "source": [
        "print(test_img_generator[0].shape)\n",
        "num_test_imgs = len(test_img_generator[0])\n",
        "\n",
        "print(num_test_imgs)\n",
        "batch_size = 16\n",
        "\n",
        "steps_per_epoch = num_test_imgs //batch_size\n",
        "print(steps_per_epoch)\n",
        "#for frame, mask in test_generator:\n",
        "_, dice_metric, mIOU = model.evaluate(test_generator, steps=steps_per_epoch)\n",
        "print(\"Dice metric is = \", (dice_metric * 100.0), \"%\", \"mIOU is = \", (mIOU * 100.0), \"%\")"
      ]
    },
    {
      "cell_type": "code",
      "source": [],
      "metadata": {
        "id": "tqL1cUj2vAb-"
      },
      "execution_count": null,
      "outputs": []
    }
  ],
  "metadata": {
    "colab": {
      "provenance": [],
      "gpuType": "T4"
    },
    "kernelspec": {
      "display_name": "Python 3",
      "name": "python3"
    },
    "language_info": {
      "name": "python"
    },
    "accelerator": "GPU"
  },
  "nbformat": 4,
  "nbformat_minor": 0
}